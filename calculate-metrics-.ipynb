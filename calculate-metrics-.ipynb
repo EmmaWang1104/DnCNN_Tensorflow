{
 "cells": [
  {
   "cell_type": "markdown",
   "id": "d063c8d4",
   "metadata": {},
   "source": [
    "### calculate metrics for denoised images"
   ]
  },
  {
   "cell_type": "code",
   "execution_count": 16,
   "id": "fb15d1f5",
   "metadata": {
    "ExecuteTime": {
     "end_time": "2023-03-13T06:25:27.571217Z",
     "start_time": "2023-03-13T06:25:27.565642Z"
    }
   },
   "outputs": [],
   "source": [
    "import numpy as np\n",
    "import cv2 as cv\n",
    "from glob import glob"
   ]
  },
  {
   "cell_type": "code",
   "execution_count": 31,
   "id": "843a6d56",
   "metadata": {
    "ExecuteTime": {
     "end_time": "2023-03-13T06:28:00.229631Z",
     "start_time": "2023-03-13T06:28:00.221288Z"
    }
   },
   "outputs": [],
   "source": [
    "def metrics(im1, im2):\n",
    "    im1 = im1.astype('float')\n",
    "    im2 = im2.astype('float')\n",
    "    \n",
    "    mse = ((im1-im2)**2).mean()\n",
    "    psnr = 10 * np.log10(255 ** 2 / mse)\n",
    "    snr = im1.mean()/im2.mean()\n",
    "    snr = 10 * np.log10(snr)\n",
    "    return psnr, mse, snr"
   ]
  },
  {
   "cell_type": "code",
   "execution_count": 32,
   "id": "bf8c47df",
   "metadata": {
    "ExecuteTime": {
     "end_time": "2023-03-13T06:28:00.459851Z",
     "start_time": "2023-03-13T06:28:00.448478Z"
    }
   },
   "outputs": [],
   "source": [
    "def function(denoised_folder, original_folder):\n",
    "    \n",
    "    denoised_paths = sorted(glob(denoised_folder + '*.png'))\n",
    "    original_paths = sorted(glob(original_folder + '*.png'))\n",
    "    \n",
    "    psnr_sum = 0\n",
    "    mse_sum = 0\n",
    "    snr_sum = 0\n",
    "    \n",
    "    for im1, im2 in zip(denoised_paths, original_paths):\n",
    "        im1 = cv.imread(im1)\n",
    "        im2 = cv.imread(im2)\n",
    "        \n",
    "        psnr, mse, snr = metrics(im1, im2)\n",
    "        psnr_sum += psnr\n",
    "        mse_sum += mse\n",
    "        snr_sum += snr\n",
    "        \n",
    "        print(\"psnr, mse, snr = %f, %f ,%f\" % (psnr, mse, snr))\n",
    "        \n",
    "    print(\"average psnr, mse, snr = %f, %f , %f\" % (psnr_sum/100, mse_sum/100, snr_sum/100))\n",
    "    "
   ]
  },
  {
   "cell_type": "code",
   "execution_count": 33,
   "id": "a1a43bd5",
   "metadata": {
    "ExecuteTime": {
     "end_time": "2023-03-13T06:28:02.429998Z",
     "start_time": "2023-03-13T06:28:00.861329Z"
    },
    "scrolled": true
   },
   "outputs": [
    {
     "name": "stdout",
     "output_type": "stream",
     "text": [
      "psnr, mse, snr = 12.676318, 3511.143704 ,1.460348\n",
      "psnr, mse, snr = 12.282586, 3844.339866 ,1.239203\n",
      "psnr, mse, snr = 11.643087, 4454.219949 ,1.597298\n",
      "psnr, mse, snr = 10.817351, 5386.978858 ,2.666779\n",
      "psnr, mse, snr = 10.736535, 5488.161502 ,1.013549\n",
      "psnr, mse, snr = 10.789609, 5421.499414 ,2.085502\n",
      "psnr, mse, snr = 10.422627, 5899.533004 ,0.501988\n",
      "psnr, mse, snr = 8.316058, 9582.406389 ,-0.237485\n",
      "psnr, mse, snr = 11.555196, 4545.281019 ,-0.040936\n",
      "psnr, mse, snr = 11.008808, 5154.654866 ,2.425349\n",
      "psnr, mse, snr = 11.460793, 4645.164568 ,2.295404\n",
      "psnr, mse, snr = 9.956040, 6568.654053 ,-0.525008\n",
      "psnr, mse, snr = 10.044855, 6435.685833 ,1.374442\n",
      "psnr, mse, snr = 11.237940, 4889.746615 ,-0.197953\n",
      "psnr, mse, snr = 10.487718, 5811.772016 ,1.624977\n",
      "psnr, mse, snr = 9.965226, 6554.774187 ,-1.630542\n",
      "psnr, mse, snr = 10.084072, 6377.833909 ,3.300816\n",
      "psnr, mse, snr = 9.315573, 7612.425123 ,5.284765\n",
      "psnr, mse, snr = 11.858895, 4238.291914 ,1.788174\n",
      "psnr, mse, snr = 10.530398, 5754.936584 ,2.207316\n",
      "psnr, mse, snr = 9.833527, 6756.590720 ,3.130395\n",
      "psnr, mse, snr = 8.143123, 9971.674414 ,-0.644457\n",
      "psnr, mse, snr = 10.803800, 5403.813416 ,2.004931\n",
      "psnr, mse, snr = 10.518703, 5770.455473 ,2.491468\n",
      "psnr, mse, snr = 10.462208, 5846.009650 ,3.137883\n",
      "psnr, mse, snr = 11.727505, 4368.475185 ,1.791536\n",
      "psnr, mse, snr = 11.184225, 4950.600566 ,2.259599\n",
      "psnr, mse, snr = 12.196942, 3920.903519 ,1.317311\n",
      "psnr, mse, snr = 10.281929, 6093.790041 ,0.070928\n",
      "psnr, mse, snr = 9.845795, 6737.531646 ,-0.771521\n",
      "psnr, mse, snr = 11.695787, 4400.496409 ,1.395377\n",
      "psnr, mse, snr = 11.342899, 4772.989537 ,-1.161763\n",
      "psnr, mse, snr = 13.555058, 2867.969558 ,0.940951\n",
      "psnr, mse, snr = 10.692721, 5543.809465 ,-0.032008\n",
      "psnr, mse, snr = 11.827744, 4268.801029 ,0.772373\n",
      "psnr, mse, snr = 8.298865, 9620.416399 ,-0.819041\n",
      "psnr, mse, snr = 10.532609, 5752.007850 ,1.216233\n",
      "psnr, mse, snr = 6.028499, 16226.708930 ,-1.338119\n",
      "psnr, mse, snr = 10.152146, 6278.642737 ,0.402122\n",
      "psnr, mse, snr = 11.345923, 4769.666986 ,2.017038\n",
      "psnr, mse, snr = 6.797542, 13593.340823 ,-2.256214\n",
      "psnr, mse, snr = 7.453955, 11686.509907 ,-1.668207\n",
      "psnr, mse, snr = 10.994997, 5171.072675 ,2.329990\n",
      "psnr, mse, snr = 10.733752, 5491.678807 ,2.547697\n",
      "psnr, mse, snr = 10.274822, 6103.770051 ,2.810974\n",
      "psnr, mse, snr = 11.322200, 4795.792253 ,1.840717\n",
      "psnr, mse, snr = 10.456126, 5854.202747 ,0.248266\n",
      "psnr, mse, snr = 12.063613, 4043.142531 ,0.713098\n",
      "psnr, mse, snr = 11.230905, 4897.673323 ,1.935329\n",
      "psnr, mse, snr = 10.568013, 5705.307006 ,1.484276\n",
      "psnr, mse, snr = 11.061289, 5092.739846 ,1.031965\n",
      "psnr, mse, snr = 11.637571, 4459.880720 ,1.508586\n",
      "psnr, mse, snr = 11.099583, 5048.031481 ,0.742720\n",
      "psnr, mse, snr = 10.976277, 5193.411019 ,0.273911\n",
      "psnr, mse, snr = 10.035443, 6449.649372 ,0.198989\n",
      "psnr, mse, snr = 10.100983, 6353.046481 ,1.218006\n",
      "psnr, mse, snr = 11.014983, 5147.330021 ,1.880203\n",
      "psnr, mse, snr = 10.096510, 6359.594033 ,-1.001254\n",
      "psnr, mse, snr = 9.921045, 6621.797294 ,1.421434\n",
      "psnr, mse, snr = 10.221007, 6179.875062 ,1.989923\n",
      "psnr, mse, snr = 10.683689, 5555.350741 ,2.575172\n",
      "psnr, mse, snr = 4.926163, 20915.296903 ,-1.048119\n",
      "psnr, mse, snr = 11.123330, 5020.503940 ,0.201067\n",
      "psnr, mse, snr = 11.722838, 4373.172449 ,1.120578\n",
      "psnr, mse, snr = 12.433052, 3713.429249 ,1.088625\n",
      "psnr, mse, snr = 12.852237, 3371.759763 ,1.013475\n",
      "psnr, mse, snr = 12.532123, 3629.677613 ,0.366080\n",
      "psnr, mse, snr = 9.314097, 7615.013735 ,-0.035417\n",
      "psnr, mse, snr = 13.650236, 2805.800010 ,0.973029\n",
      "psnr, mse, snr = 9.985812, 6523.778025 ,0.009535\n",
      "psnr, mse, snr = 11.046979, 5109.547274 ,1.896647\n",
      "psnr, mse, snr = 11.260890, 4863.975062 ,1.480926\n",
      "psnr, mse, snr = 10.294595, 6076.043909 ,1.715448\n",
      "psnr, mse, snr = 11.627158, 4470.586883 ,1.291740\n",
      "psnr, mse, snr = 10.439818, 5876.227140 ,1.717463\n",
      "psnr, mse, snr = 10.741243, 5482.214691 ,-0.429435\n",
      "psnr, mse, snr = 12.640723, 3540.039393 ,1.534706\n",
      "psnr, mse, snr = 10.224443, 6174.987438 ,0.299664\n",
      "psnr, mse, snr = 12.500162, 3656.487757 ,0.957933\n",
      "psnr, mse, snr = 7.558579, 11408.339012 ,-0.306542\n",
      "psnr, mse, snr = 8.657157, 8858.590206 ,-1.314574\n",
      "psnr, mse, snr = 11.380627, 4731.705165 ,1.224449\n",
      "psnr, mse, snr = 6.447658, 14733.792428 ,-1.925936\n",
      "psnr, mse, snr = 10.726955, 5500.280597 ,-0.539782\n",
      "psnr, mse, snr = 10.670071, 5572.796965 ,-0.144386\n",
      "psnr, mse, snr = 11.063454, 5090.200926 ,1.587864\n",
      "psnr, mse, snr = 10.106264, 6345.326564 ,-0.648316\n",
      "psnr, mse, snr = 11.044059, 5112.984619 ,1.859124\n",
      "psnr, mse, snr = 14.403166, 2359.194805 ,0.591798\n",
      "psnr, mse, snr = 11.351172, 4763.906101 ,1.614374\n",
      "psnr, mse, snr = 11.431974, 4676.091019 ,1.911053\n",
      "psnr, mse, snr = 10.649950, 5598.676646 ,2.017937\n",
      "psnr, mse, snr = 9.645295, 7055.875422 ,2.765810\n",
      "psnr, mse, snr = 11.376794, 4735.883004 ,1.456774\n",
      "psnr, mse, snr = 11.663243, 4433.595669 ,0.836035\n",
      "psnr, mse, snr = 10.449216, 5863.524331 ,2.267240\n",
      "psnr, mse, snr = 6.441869, 14753.445278 ,-1.177727\n",
      "psnr, mse, snr = 10.703158, 5530.501481 ,2.556375\n",
      "psnr, mse, snr = 12.018124, 4085.713704 ,0.432148\n",
      "psnr, mse, snr = 9.913068, 6633.970813 ,0.923697\n",
      "average psnr, mse, snr = 10.614218, 6073.649891 , 0.983822\n"
     ]
    }
   ],
   "source": [
    "denoised_folder = '/Users/brendawang/Documents/SCU/SCU-w23/COEN344-Computer-Vision-I/PROJECT/denoised-trainMIX-testGaussian/'\n",
    "original_folder = '/Users/brendawang/Documents/SCU/SCU-w23/COEN344-Computer-Vision-I/PROJECT/data-sp-0.01/test-sp/original-sp/'\n",
    "function(denoised_folder, original_folder)"
   ]
  },
  {
   "cell_type": "code",
   "execution_count": null,
   "id": "3a51638e",
   "metadata": {},
   "outputs": [],
   "source": []
  }
 ],
 "metadata": {
  "kernelspec": {
   "display_name": "opencv-env",
   "language": "python",
   "name": "opencv-env"
  },
  "language_info": {
   "codemirror_mode": {
    "name": "ipython",
    "version": 3
   },
   "file_extension": ".py",
   "mimetype": "text/x-python",
   "name": "python",
   "nbconvert_exporter": "python",
   "pygments_lexer": "ipython3",
   "version": "3.11.0"
  },
  "toc": {
   "base_numbering": 1,
   "nav_menu": {},
   "number_sections": false,
   "sideBar": true,
   "skip_h1_title": true,
   "title_cell": "Table of Contents",
   "title_sidebar": "Contents",
   "toc_cell": false,
   "toc_position": {},
   "toc_section_display": true,
   "toc_window_display": true
  },
  "varInspector": {
   "cols": {
    "lenName": 16,
    "lenType": 16,
    "lenVar": 40
   },
   "kernels_config": {
    "python": {
     "delete_cmd_postfix": "",
     "delete_cmd_prefix": "del ",
     "library": "var_list.py",
     "varRefreshCmd": "print(var_dic_list())"
    },
    "r": {
     "delete_cmd_postfix": ") ",
     "delete_cmd_prefix": "rm(",
     "library": "var_list.r",
     "varRefreshCmd": "cat(var_dic_list()) "
    }
   },
   "types_to_exclude": [
    "module",
    "function",
    "builtin_function_or_method",
    "instance",
    "_Feature"
   ],
   "window_display": false
  },
  "vp": {
   "vp_config_version": "1.0.0",
   "vp_menu_width": 273,
   "vp_note_display": true,
   "vp_note_width": 263,
   "vp_position": {
    "width": 541
   },
   "vp_section_display": false,
   "vp_signature": "VisualPython"
  }
 },
 "nbformat": 4,
 "nbformat_minor": 5
}
