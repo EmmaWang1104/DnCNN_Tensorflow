{
 "cells": [
  {
   "cell_type": "code",
   "execution_count": 3,
   "id": "d502057a",
   "metadata": {},
   "outputs": [],
   "source": [
    "import os\n",
    "import numpy as np\n",
    "import cv2\n",
    "import glob"
   ]
  },
  {
   "cell_type": "code",
   "execution_count": 4,
   "id": "bf62d982",
   "metadata": {},
   "outputs": [
    {
     "name": "stdout",
     "output_type": "stream",
     "text": [
      "[*] Reading train files...\n",
      "[*] Applying noise...\n",
      "[*] Noisy and original images saved\n"
     ]
    }
   ],
   "source": [
    "def main():\n",
    "    src_dir = '/Users/emma.w/Desktop/Computer Vision/Project/data/train/'\n",
    "    save_dir = '/Users/emma.w/Desktop/Computer Vision/Project/data/train/'\n",
    "    src_dir_test = '/Users/emma.w/Desktop/Computer Vision/Project/data/test/'\n",
    "    save_dir_test = '/Users/emma.w/Desktop/Computer Vision/Project/data/test/'\n",
    "    \n",
    "    filepaths = glob.glob(src_dir + '*.jpg')\n",
    "    filepaths_test = glob.glob(src_dir_test + '*.jpg')\n",
    "    \n",
    "    def sortKeyFunc(s):\n",
    "        return int(os.path.basename(s)[:-4])\n",
    "    \n",
    "    filepaths_test.sort(key=sortKeyFunc)\n",
    "    filepaths.sort(key=sortKeyFunc)\n",
    "  \n",
    "    print(\"[*] Reading train files...\")  \n",
    "  \n",
    "    if not os.path.exists(os.path.join(save_dir, \"original\")):\n",
    "        os.makedirs(os.path.join(save_dir, \"original\"))\n",
    "    if not os.path.exists(os.path.join(save_dir, \"noisy\")):\n",
    "        os.makedirs(os.path.join(save_dir, \"noisy\"))\n",
    "    if not os.path.exists(os.path.join(save_dir_test, \"original\")):\n",
    "        os.makedirs(os.path.join(save_dir_test, \"original\"))\n",
    "    if not os.path.exists(os.path.join(save_dir_test, \"noisy\")):\n",
    "        os.makedirs(os.path.join(save_dir_test, \"noisy\"))\n",
    "\n",
    "    print(\"[*] Applying noise...\")\n",
    "\n",
    "\n",
    "    for i, filepath in enumerate(filepaths):\n",
    "        image = cv2.imread(filepath)\n",
    "        image = cv2.resize(image, (180, 180), interpolation=cv2.INTER_CUBIC)\n",
    "        row, col, ch = image.shape\n",
    "        mean = 0\n",
    "        sigma = np.full((row, col, ch), 25)\n",
    "        gauss = np.random.normal(mean, sigma, (row, col, ch))\n",
    "        gauss = gauss.reshape(row, col, ch)\n",
    "        noisy = image + gauss\n",
    "        noisy = np.clip(noisy, 0, 255)\n",
    "        noisy = noisy.astype('uint8')\n",
    "        cv2.imwrite(os.path.join(save_dir, \"noisy\", f\"{i:04d}.png\"), noisy)\n",
    "        cv2.imwrite(os.path.join(save_dir, \"original\", f\"{i:04d}.png\"), image)\n",
    "\n",
    "    for i, filepath in enumerate(filepaths_test):\n",
    "        image = cv2.imread(filepath)\n",
    "        image = cv2.resize(image, (180, 180), interpolation=cv2.INTER_CUBIC)\n",
    "        row, col, ch = image.shape\n",
    "        mean = 0\n",
    "        sigma = np.full((row, col, ch), 25)\n",
    "        gauss = np.random.normal(mean, sigma, (row, col, ch))\n",
    "        gauss = gauss.reshape(row, col, ch)\n",
    "        noisy = image + gauss\n",
    "        noisy = np.clip(noisy, 0, 255)\n",
    "        noisy = noisy.astype('uint8')\n",
    "        cv2.imwrite(os.path.join(save_dir_test, \"noisy\", f\"{i:04d}.png\"), noisy)\n",
    "        cv2.imwrite(os.path.join(save_dir_test, \"original\", f\"{i:04d}.png\"), image)\n",
    "\n",
    "    print(\"[*] Noisy and original images saved\")\n",
    "\n",
    "\n",
    "if __name__ == \"__main__\":\n",
    "    main()"
   ]
  },
  {
   "cell_type": "code",
   "execution_count": null,
   "id": "ef4ef40c",
   "metadata": {},
   "outputs": [],
   "source": []
  }
 ],
 "metadata": {
  "kernelspec": {
   "display_name": "Python 3 (ipykernel)",
   "language": "python",
   "name": "python3"
  },
  "language_info": {
   "codemirror_mode": {
    "name": "ipython",
    "version": 3
   },
   "file_extension": ".py",
   "mimetype": "text/x-python",
   "name": "python",
   "nbconvert_exporter": "python",
   "pygments_lexer": "ipython3",
   "version": "3.9.13"
  }
 },
 "nbformat": 4,
 "nbformat_minor": 5
}
